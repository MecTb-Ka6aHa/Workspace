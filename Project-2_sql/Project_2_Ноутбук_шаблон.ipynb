{
 "cells": [
  {
   "cell_type": "markdown",
   "id": "42289889-bd57-434e-9637-d3e354756316",
   "metadata": {
    "id": "42289889-bd57-434e-9637-d3e354756316"
   },
   "source": [
    "<center> <img src = https://raw.githubusercontent.com/AndreyRysistov/DatasetsForPandas/main/hh%20label.jpg alt=\"drawing\" style=\"width:400px;\">"
   ]
  },
  {
   "cell_type": "markdown",
   "id": "829cb75b-f14e-4ba8-9195-7ba929a7d656",
   "metadata": {
    "id": "829cb75b-f14e-4ba8-9195-7ba929a7d656",
    "tags": []
   },
   "source": [
    "# <center> Проект: Анализ вакансий из HeadHunter\n",
    "   "
   ]
  },
  {
   "cell_type": "code",
   "execution_count": null,
   "id": "dccfde33-2452-43fb-a8a5-5c6ebc02a71d",
   "metadata": {
    "id": "dccfde33-2452-43fb-a8a5-5c6ebc02a71d"
   },
   "outputs": [],
   "source": [
    "import pandas as pd\n",
    "import psycopg2\n",
    "import warnings\n",
    "import matplotlib.pyplot as plt\n",
    "import seaborn as sns"
   ]
  },
  {
   "cell_type": "code",
   "execution_count": 94,
   "id": "oVKH4ehvf8Ay",
   "metadata": {
    "id": "oVKH4ehvf8Ay"
   },
   "outputs": [],
   "source": [
    "DBNAME = 'project_sql'\n",
    "USER = 'skillfactory'\n",
    "PASSWORD = 'cCkxxLVrDE8EbvjueeMedPKt'\n",
    "HOST = '84.201.134.129'\n",
    "PORT = 5432\n",
    "# Представим, что тут ничего не было)"
   ]
  },
  {
   "cell_type": "code",
   "execution_count": 12,
   "id": "G4X_q8KBf7SF",
   "metadata": {
    "id": "G4X_q8KBf7SF"
   },
   "outputs": [],
   "source": [
    "connection = psycopg2.connect(\n",
    "    dbname=DBNAME,\n",
    "    user=USER,\n",
    "    host=HOST,\n",
    "    password=PASSWORD,\n",
    "    port=PORT\n",
    ")"
   ]
  },
  {
   "cell_type": "markdown",
   "id": "0dc6476b-7a00-44f1-ac93-6e3baed33a29",
   "metadata": {
    "id": "0dc6476b-7a00-44f1-ac93-6e3baed33a29"
   },
   "source": [
    "# Юнит 3. Предварительный анализ данных"
   ]
  },
  {
   "cell_type": "markdown",
   "id": "889782b6-8d1c-410e-8920-e57f27917c64",
   "metadata": {
    "id": "889782b6-8d1c-410e-8920-e57f27917c64"
   },
   "source": [
    "1. Напишите запрос, который посчитает количество вакансий в нашей базе (вакансии находятся в таблице vacancies). "
   ]
  },
  {
   "cell_type": "code",
   "execution_count": 13,
   "id": "bc39e68e-ed02-4ee2-9235-7258a2f867a8",
   "metadata": {
    "id": "bc39e68e-ed02-4ee2-9235-7258a2f867a8"
   },
   "outputs": [
    {
     "name": "stderr",
     "output_type": "stream",
     "text": [
      "C:\\Users\\ilya2\\AppData\\Local\\Temp\\ipykernel_13412\\1544071881.py:8: UserWarning: pandas only supports SQLAlchemy connectable (engine/connection) or database string URI or sqlite3 DBAPI2 connection. Other DBAPI2 objects are not tested. Please consider using SQLAlchemy.\n",
      "  df = pd.read_sql_query(query_3_1, connection)\n"
     ]
    }
   ],
   "source": [
    "# Запрос для подсчета количества вакансий\n",
    "query_3_1 = '''\n",
    "SELECT COUNT(*) AS total_vacancies\n",
    "FROM VACANCIES;\n",
    "'''\n",
    "\n",
    "# Выполнение запроса и получение результатов в виде DataFrame\n",
    "df = pd.read_sql_query(query_3_1, connection)"
   ]
  },
  {
   "cell_type": "code",
   "execution_count": 14,
   "id": "7mAwtsk4hEHY",
   "metadata": {
    "id": "7mAwtsk4hEHY"
   },
   "outputs": [
    {
     "name": "stdout",
     "output_type": "stream",
     "text": [
      "Количество вакансий:    total_vacancies\n",
      "0            49197\n"
     ]
    }
   ],
   "source": [
    "# Вывод результата\n",
    "print(f\"Количество вакансий: {df}\")\n"
   ]
  },
  {
   "cell_type": "markdown",
   "id": "b583485d-1f9e-494e-ada4-80ffff7c53d6",
   "metadata": {
    "id": "b583485d-1f9e-494e-ada4-80ffff7c53d6"
   },
   "source": [
    "2. Напишите запрос, который посчитает количество работодателей (таблица employers). "
   ]
  },
  {
   "cell_type": "code",
   "execution_count": 15,
   "id": "5408c52c-3407-4a63-b25b-1aafa2322d28",
   "metadata": {
    "id": "5408c52c-3407-4a63-b25b-1aafa2322d28"
   },
   "outputs": [
    {
     "name": "stderr",
     "output_type": "stream",
     "text": [
      "C:\\Users\\ilya2\\AppData\\Local\\Temp\\ipykernel_13412\\2591606291.py:8: UserWarning: pandas only supports SQLAlchemy connectable (engine/connection) or database string URI or sqlite3 DBAPI2 connection. Other DBAPI2 objects are not tested. Please consider using SQLAlchemy.\n",
      "  df = pd.read_sql_query(query_3_2, connection)\n"
     ]
    }
   ],
   "source": [
    "# Запрос для подсчета количества работодателей\n",
    "query_3_2 = '''\n",
    "SELECT COUNT(*) AS employer_count\n",
    "FROM employers;\n",
    "'''\n",
    "\n",
    "# Выполнение запроса и получение результатов в виде DataFrame\n",
    "df = pd.read_sql_query(query_3_2, connection)"
   ]
  },
  {
   "cell_type": "code",
   "execution_count": 16,
   "id": "jVL4eshKhdqc",
   "metadata": {
    "id": "jVL4eshKhdqc"
   },
   "outputs": [
    {
     "name": "stdout",
     "output_type": "stream",
     "text": [
      "Количество работодателей:    employer_count\n",
      "0           23501\n"
     ]
    }
   ],
   "source": [
    "# Вывод результата\n",
    "print(f\"Количество работодателей: {df}\")"
   ]
  },
  {
   "cell_type": "markdown",
   "id": "a2bfff1f-c975-4bf6-84be-2185d79dcb76",
   "metadata": {
    "id": "a2bfff1f-c975-4bf6-84be-2185d79dcb76"
   },
   "source": [
    "3. Посчитате с помощью запроса количество регионов (таблица areas)."
   ]
  },
  {
   "cell_type": "code",
   "execution_count": 17,
   "id": "1m8QJwBYhey6",
   "metadata": {
    "id": "1m8QJwBYhey6"
   },
   "outputs": [
    {
     "name": "stderr",
     "output_type": "stream",
     "text": [
      "C:\\Users\\ilya2\\AppData\\Local\\Temp\\ipykernel_13412\\1609916213.py:8: UserWarning: pandas only supports SQLAlchemy connectable (engine/connection) or database string URI or sqlite3 DBAPI2 connection. Other DBAPI2 objects are not tested. Please consider using SQLAlchemy.\n",
      "  df = pd.read_sql_query(query_3_3, connection)\n"
     ]
    }
   ],
   "source": [
    "# Запрос для подсчета количества регионов\n",
    "query_3_3 = '''\n",
    "SELECT COUNT(DISTINCT name) AS unique_area_count\n",
    "FROM areas;\n",
    "'''\n",
    "\n",
    "# Выполнение запроса и получение результатов в виде DataFrame\n",
    "df = pd.read_sql_query(query_3_3, connection)"
   ]
  },
  {
   "cell_type": "code",
   "execution_count": 18,
   "id": "EZsn9tlfhe7f",
   "metadata": {
    "id": "EZsn9tlfhe7f"
   },
   "outputs": [
    {
     "name": "stdout",
     "output_type": "stream",
     "text": [
      "Количество регионов:    unique_area_count\n",
      "0               1362\n"
     ]
    }
   ],
   "source": [
    "# Вывод результата\n",
    "print(f\"Количество регионов: {df}\")"
   ]
  },
  {
   "cell_type": "markdown",
   "id": "41bb59f3-53cc-4a67-a5bc-bedf573955e4",
   "metadata": {
    "id": "41bb59f3-53cc-4a67-a5bc-bedf573955e4"
   },
   "source": [
    "4. Посчитате с помощью запроса количество сфер деятельности в базе (таблица industries)."
   ]
  },
  {
   "cell_type": "code",
   "execution_count": 19,
   "id": "d286cf4c-707b-4cd2-9190-7ab3587d04a1",
   "metadata": {
    "id": "d286cf4c-707b-4cd2-9190-7ab3587d04a1"
   },
   "outputs": [
    {
     "name": "stderr",
     "output_type": "stream",
     "text": [
      "C:\\Users\\ilya2\\AppData\\Local\\Temp\\ipykernel_13412\\2412317821.py:8: UserWarning: pandas only supports SQLAlchemy connectable (engine/connection) or database string URI or sqlite3 DBAPI2 connection. Other DBAPI2 objects are not tested. Please consider using SQLAlchemy.\n",
      "  df = pd.read_sql_query(query_3_4, connection)\n"
     ]
    }
   ],
   "source": [
    "# Запрос для подсчета количества сфер деятельности\n",
    "query_3_4 = '''\n",
    "SELECT COUNT(DISTINCT name) AS unique_industries\n",
    "FROM industries;\n",
    "'''\n",
    "\n",
    "# Выполнение запроса и получение результатов в виде DataFrame\n",
    "df = pd.read_sql_query(query_3_4, connection)"
   ]
  },
  {
   "cell_type": "code",
   "execution_count": 20,
   "id": "JYAaoZ4qhfzW",
   "metadata": {
    "id": "JYAaoZ4qhfzW"
   },
   "outputs": [
    {
     "name": "stdout",
     "output_type": "stream",
     "text": [
      "Количество сфер деятельности:    unique_industries\n",
      "0                294\n"
     ]
    }
   ],
   "source": [
    "# Вывод результата\n",
    "print(f\"Количество сфер деятельности: {df}\")"
   ]
  },
  {
   "cell_type": "markdown",
   "id": "465568fd",
   "metadata": {},
   "source": [
    "- Общее количество вакансий: В базе данных содержится 49,197 вакансий. Это свидетельствует о значительном объеме информации, что может быть полезно для анализа рынка труда и выявления тенденций.\n",
    "\n",
    "- Количество работодателей: В системе зарегистрировано 23,501 работодателей. Это говорит о разнообразии предложений на рынке и о наличии множества компаний, готовых нанимать сотрудников.\n",
    "\n",
    "- Региональное распределение: В базе данных представлено 1,362 региона. Это может указывать на широкий географический охват вакансий, что позволяет кандидатам рассматривать возможности трудоустройства в различных местах.\n",
    "\n",
    "- Сферы деятельности: Зарегистрировано 294 сферы деятельности. Это разнообразие может помочь соискателям найти вакансии в интересующих их областях и позволит работодателям более точно нацеливаться на нужные кадры."
   ]
  },
  {
   "cell_type": "markdown",
   "id": "9a8a2181-6914-448b-85f1-38f5f18b8a93",
   "metadata": {
    "id": "9a8a2181-6914-448b-85f1-38f5f18b8a93"
   },
   "source": [
    "***"
   ]
  },
  {
   "cell_type": "markdown",
   "id": "8d62a9f3-f64e-4fe7-bdac-c4dffa16155e",
   "metadata": {
    "id": "8d62a9f3-f64e-4fe7-bdac-c4dffa16155e"
   },
   "source": [
    "# Юнит 4. Детальный анализ вакансий"
   ]
  },
  {
   "cell_type": "markdown",
   "id": "93053d3d-b284-481a-9cf7-012d7014c0e0",
   "metadata": {
    "id": "93053d3d-b284-481a-9cf7-012d7014c0e0"
   },
   "source": [
    "1. Напишите запрос, который позволит узнать, сколько (cnt) вакансий в каждом регионе (area).\n",
    "Отсортируйте по количеству вакансий в порядке убывания."
   ]
  },
  {
   "cell_type": "code",
   "execution_count": 22,
   "id": "3f069da6-fdc9-4ae7-b514-fafe2675efd3",
   "metadata": {
    "id": "3f069da6-fdc9-4ae7-b514-fafe2675efd3"
   },
   "outputs": [
    {
     "name": "stderr",
     "output_type": "stream",
     "text": [
      "C:\\Users\\ilya2\\AppData\\Local\\Temp\\ipykernel_13412\\28742490.py:12: UserWarning: pandas only supports SQLAlchemy connectable (engine/connection) or database string URI or sqlite3 DBAPI2 connection. Other DBAPI2 objects are not tested. Please consider using SQLAlchemy.\n",
      "  df = pd.read_sql_query(query_4_1, connection)\n"
     ]
    }
   ],
   "source": [
    "# Запрос\n",
    "query_4_1 = '''\n",
    "SELECT a.name AS area_name, COUNT(v.id) AS cnt\n",
    "FROM areas a\n",
    "LEFT JOIN vacancies v ON a.id = v.area_id\n",
    "GROUP BY a.name\n",
    "ORDER BY cnt DESC\n",
    "LIMIT 5;\n",
    "'''\n",
    "\n",
    "# Выполнение запроса и получение результатов в виде DataFrame\n",
    "df = pd.read_sql_query(query_4_1, connection)"
   ]
  },
  {
   "cell_type": "code",
   "execution_count": 23,
   "id": "P7QL86hrjhRJ",
   "metadata": {
    "id": "P7QL86hrjhRJ"
   },
   "outputs": [
    {
     "name": "stdout",
     "output_type": "stream",
     "text": [
      "Пятёрка лидеров по кол-ву вакансий:          area_name   cnt\n",
      "0           Москва  5333\n",
      "1  Санкт-Петербург  2851\n",
      "2            Минск  2112\n",
      "3      Новосибирск  2006\n",
      "4           Алматы  1892\n"
     ]
    }
   ],
   "source": [
    "# Вывод результата\n",
    "print(f\"Пятёрка лидеров по кол-ву вакансий: {df}\")"
   ]
  },
  {
   "cell_type": "markdown",
   "id": "4266f0b6-1646-492a-88b4-2f6a46502135",
   "metadata": {
    "id": "4266f0b6-1646-492a-88b4-2f6a46502135"
   },
   "source": [
    "2. Напишите запрос, чтобы определить у какого количества вакансий заполнено хотя бы одно из двух полей с зарплатой."
   ]
  },
  {
   "cell_type": "code",
   "execution_count": 24,
   "id": "0c44b350-72eb-4d65-8b54-a1fc449ba9fd",
   "metadata": {
    "id": "0c44b350-72eb-4d65-8b54-a1fc449ba9fd"
   },
   "outputs": [
    {
     "name": "stderr",
     "output_type": "stream",
     "text": [
      "C:\\Users\\ilya2\\AppData\\Local\\Temp\\ipykernel_13412\\2374093940.py:9: UserWarning: pandas only supports SQLAlchemy connectable (engine/connection) or database string URI or sqlite3 DBAPI2 connection. Other DBAPI2 objects are not tested. Please consider using SQLAlchemy.\n",
      "  df = pd.read_sql_query(query_4_2, connection)\n"
     ]
    }
   ],
   "source": [
    "# Запрос для подсчета количества вакансий...\n",
    "query_4_2 = '''\n",
    "SELECT COUNT(*) AS count_vacancies\n",
    "FROM vacancies\n",
    "WHERE salary_from IS NOT NULL OR salary_to IS NOT NULL;\n",
    "'''\n",
    "\n",
    "# Выполнение запроса и получение результатов в виде DataFrame\n",
    "df = pd.read_sql_query(query_4_2, connection)"
   ]
  },
  {
   "cell_type": "code",
   "execution_count": 25,
   "id": "rhvwaMDkoWTi",
   "metadata": {
    "id": "rhvwaMDkoWTi"
   },
   "outputs": [
    {
     "name": "stdout",
     "output_type": "stream",
     "text": [
      "Количество вакансий,где заполнено хотя бы одно из двух полей с зарплатой:    count_vacancies\n",
      "0            24073\n"
     ]
    }
   ],
   "source": [
    "# Вывод результата\n",
    "print(f\"Количество вакансий,где заполнено хотя бы одно из двух полей с зарплатой: {df}\")"
   ]
  },
  {
   "cell_type": "markdown",
   "id": "635c4d5d-f323-4c66-b428-50a088120aa0",
   "metadata": {
    "id": "635c4d5d-f323-4c66-b428-50a088120aa0"
   },
   "source": [
    "3. Найдите средние значения для нижней и верхней границы зарплатной вилки. Округлите значения до целого."
   ]
  },
  {
   "cell_type": "code",
   "execution_count": 26,
   "id": "603cdbe4-0ec3-4106-8eaf-c73fcdd29165",
   "metadata": {
    "id": "603cdbe4-0ec3-4106-8eaf-c73fcdd29165"
   },
   "outputs": [
    {
     "name": "stderr",
     "output_type": "stream",
     "text": [
      "C:\\Users\\ilya2\\AppData\\Local\\Temp\\ipykernel_13412\\554931089.py:10: UserWarning: pandas only supports SQLAlchemy connectable (engine/connection) or database string URI or sqlite3 DBAPI2 connection. Other DBAPI2 objects are not tested. Please consider using SQLAlchemy.\n",
      "  df = pd.read_sql_query(query_4_3, connection)\n"
     ]
    }
   ],
   "source": [
    "# Запрос\n",
    "query_4_3 = '''\n",
    "SELECT \n",
    "    ROUND(AVG(salary_from)) AS average_salary_from,\n",
    "    ROUND(AVG(salary_to)) AS average_salary_to\n",
    "FROM vacancies\n",
    "'''\n",
    "\n",
    "# Выполнение запроса и получение результатов в виде DataFrame\n",
    "df = pd.read_sql_query(query_4_3, connection)"
   ]
  },
  {
   "cell_type": "code",
   "execution_count": 27,
   "id": "pswpAb66ovZZ",
   "metadata": {
    "id": "pswpAb66ovZZ"
   },
   "outputs": [
    {
     "name": "stdout",
     "output_type": "stream",
     "text": [
      "Нуль \\ Нижняя планка \\ Верхняя планка:    average_salary_from  average_salary_to\n",
      "0              71065.0           110537.0\n"
     ]
    }
   ],
   "source": [
    "# Вывод результата\n",
    "print(f\"Нуль \\ Нижняя планка \\ Верхняя планка: {df}\")"
   ]
  },
  {
   "cell_type": "markdown",
   "id": "f3fdaec9-5fd3-4260-9cf5-1d7406b628a5",
   "metadata": {
    "id": "f3fdaec9-5fd3-4260-9cf5-1d7406b628a5"
   },
   "source": [
    "4. Напишите запрос, который выведет количество вакансий для каждого сочетания типа рабочего графика (schedule) и типа трудоустройства (employment), используемого в вакансиях. Результат отсортируйте по убыванию количества.\n"
   ]
  },
  {
   "cell_type": "code",
   "execution_count": 28,
   "id": "1ea710ec-871b-431e-9462-c7d0fd87011b",
   "metadata": {
    "id": "1ea710ec-871b-431e-9462-c7d0fd87011b"
   },
   "outputs": [
    {
     "name": "stderr",
     "output_type": "stream",
     "text": [
      "C:\\Users\\ilya2\\AppData\\Local\\Temp\\ipykernel_13412\\2252638817.py:17: UserWarning: pandas only supports SQLAlchemy connectable (engine/connection) or database string URI or sqlite3 DBAPI2 connection. Other DBAPI2 objects are not tested. Please consider using SQLAlchemy.\n",
      "  df = pd.read_sql_query(query_4_4, connection)\n"
     ]
    }
   ],
   "source": [
    "# Запрос\n",
    "query_4_4 = '''\n",
    "SELECT \n",
    "    schedule, \n",
    "    employment, \n",
    "    COUNT(*) AS vacancy_count\n",
    "FROM \n",
    "    vacancies\n",
    "GROUP BY \n",
    "    schedule, \n",
    "    employment\n",
    "ORDER BY \n",
    "    vacancy_count DESC;\n",
    "'''\n",
    "\n",
    "# Выполнение запроса и получение результатов в виде DataFrame\n",
    "df = pd.read_sql_query(query_4_4, connection)"
   ]
  },
  {
   "cell_type": "code",
   "execution_count": 29,
   "id": "lGUVqavdo4JQ",
   "metadata": {
    "id": "lGUVqavdo4JQ"
   },
   "outputs": [
    {
     "name": "stdout",
     "output_type": "stream",
     "text": [
      "Типы рабочего графика - Типы устойства:             schedule           employment  vacancy_count\n",
      "0        Полный день     Полная занятость          35367\n",
      "1   Удаленная работа     Полная занятость           7802\n",
      "2      Гибкий график     Полная занятость           1593\n",
      "3   Удаленная работа  Частичная занятость           1312\n",
      "4     Сменный график     Полная занятость            940\n",
      "5        Полный день           Стажировка            569\n",
      "6     Вахтовый метод     Полная занятость            367\n",
      "7        Полный день  Частичная занятость            347\n",
      "8      Гибкий график  Частичная занятость            312\n",
      "9        Полный день     Проектная работа            141\n",
      "10  Удаленная работа     Проектная работа            133\n",
      "11     Гибкий график           Стажировка            116\n",
      "12    Сменный график  Частичная занятость            101\n",
      "13  Удаленная работа           Стажировка             64\n",
      "14     Гибкий график     Проектная работа             18\n",
      "15    Сменный график           Стажировка             12\n",
      "16    Вахтовый метод     Проектная работа              2\n",
      "17    Сменный график     Проектная работа              1\n"
     ]
    }
   ],
   "source": [
    "# Вывод результата\n",
    "print(f\"Типы рабочего графика - Типы устойства: {df}\")"
   ]
  },
  {
   "cell_type": "markdown",
   "id": "0136ffee-0ead-4a6b-b608-61d1c753a438",
   "metadata": {
    "id": "0136ffee-0ead-4a6b-b608-61d1c753a438"
   },
   "source": [
    "5. Напишите запрос, выводящий значения поля Требуемый опыт работы (experience) в порядке возрастания количества вакансий, в которых указан данный вариант опыта. "
   ]
  },
  {
   "cell_type": "code",
   "execution_count": 30,
   "id": "5b3a8e79-f7ab-4008-b767-12aea3a205ea",
   "metadata": {
    "id": "5b3a8e79-f7ab-4008-b767-12aea3a205ea"
   },
   "outputs": [
    {
     "name": "stderr",
     "output_type": "stream",
     "text": [
      "C:\\Users\\ilya2\\AppData\\Local\\Temp\\ipykernel_13412\\2997699212.py:15: UserWarning: pandas only supports SQLAlchemy connectable (engine/connection) or database string URI or sqlite3 DBAPI2 connection. Other DBAPI2 objects are not tested. Please consider using SQLAlchemy.\n",
      "  df = pd.read_sql_query(query_4_5, connection)\n"
     ]
    }
   ],
   "source": [
    "# Запрос\n",
    "query_4_5 = '''\n",
    "SELECT \n",
    "    experience, \n",
    "    COUNT(*) AS vacancy_count\n",
    "FROM \n",
    "    vacancies\n",
    "GROUP BY \n",
    "    experience\n",
    "ORDER BY \n",
    "    vacancy_count ASC;\n",
    "'''\n",
    "\n",
    "# Выполнение запроса и получение результатов в виде DataFrame\n",
    "df = pd.read_sql_query(query_4_5, connection)"
   ]
  },
  {
   "cell_type": "code",
   "execution_count": 31,
   "id": "3Is64Y-hpDpq",
   "metadata": {
    "id": "3Is64Y-hpDpq"
   },
   "outputs": [
    {
     "name": "stdout",
     "output_type": "stream",
     "text": [
      "Список уникальных значений опыта работы с количеством вакансий:            experience  vacancy_count\n",
      "0         Более 6 лет           1337\n",
      "1           Нет опыта           7197\n",
      "2       От 3 до 6 лет          14511\n",
      "3  От 1 года до 3 лет          26152\n"
     ]
    }
   ],
   "source": [
    "# Вывод результата\n",
    "print(f\"Список уникальных значений опыта работы с количеством вакансий: {df}\")"
   ]
  },
  {
   "cell_type": "markdown",
   "id": "21435301",
   "metadata": {},
   "source": [
    "- Лидеры по количеству вакансий: Москва и Санкт-Петербург занимают первые две позиции, что свидетельствует о высоком уровне спроса на рабочую силу в этих крупных городах. Минск, Новосибирск и Алматы также имеют значительное количество вакансий, что указывает на активные рынки труда в этих регионах.\n",
    "\n",
    "- Заполненность полей зарплаты: Из 24073 вакансий более чем половина имеет заполненные поля с зарплатой, что говорит о прозрачности предложений и заинтересованности работодателей в привлечении кандидатов.\n",
    "\n",
    "- Средние зарплатные вилки: Средняя нижняя граница зарплаты составляет 71065, а верхняя — 110537. Это указывает на широкий диапазон заработных плат в зависимости от уровня квалификации и опыта работы.\n",
    "\n",
    "- Типы рабочего графика и трудоустройства: Пара \"Полный день — Полная занятость\" занимает второе место по популярности, что может говорить о предпочтениях соискателей к стабильным условиям работы с полной занятостью.\n",
    "\n",
    "- Опыт работы: Вакансии с требованием более 6 лет опыта работы имеют наименьшее количество предложений, тогда как вакансии для кандидатов без опыта и с опытом от 1 до 3 лет более распространены. Это может указывать на потребность работодателей в молодых специалистах или тех, кто готов развиваться в новой сфере.\n",
    "\n",
    "В целом, данные показывают активный рынок труда с разнообразием предложений, но также подчеркивают важность опыта и квалификации для соискателей."
   ]
  },
  {
   "cell_type": "markdown",
   "id": "oq2b7n1QpIka",
   "metadata": {
    "id": "oq2b7n1QpIka"
   },
   "source": [
    "***"
   ]
  },
  {
   "cell_type": "markdown",
   "id": "7ea20ab6-04a7-40a0-adec-443a0e5a42c3",
   "metadata": {
    "id": "7ea20ab6-04a7-40a0-adec-443a0e5a42c3"
   },
   "source": [
    "# Юнит 5. Анализ работодателей"
   ]
  },
  {
   "cell_type": "markdown",
   "id": "968aed80-74ef-4ffb-b5bf-c65b84e9caea",
   "metadata": {
    "id": "968aed80-74ef-4ffb-b5bf-c65b84e9caea"
   },
   "source": [
    "1. Напишите запрос, который позволит узнать, какие работодатели находятся на первом и пятом месте по количеству вакансий."
   ]
  },
  {
   "cell_type": "code",
   "execution_count": 33,
   "id": "f2d62796-d400-4ec1-a675-88112739a50e",
   "metadata": {
    "id": "f2d62796-d400-4ec1-a675-88112739a50e"
   },
   "outputs": [
    {
     "name": "stderr",
     "output_type": "stream",
     "text": [
      "C:\\Users\\ilya2\\AppData\\Local\\Temp\\ipykernel_13412\\107008609.py:12: UserWarning: pandas only supports SQLAlchemy connectable (engine/connection) or database string URI or sqlite3 DBAPI2 connection. Other DBAPI2 objects are not tested. Please consider using SQLAlchemy.\n",
      "  df = pd.read_sql_query(query_5_1, connection)\n"
     ]
    }
   ],
   "source": [
    "# Запрос\n",
    "query_5_1 = '''\n",
    "SELECT e.name, COUNT(v.id) AS vacancy_count\n",
    "FROM employers e\n",
    "LEFT JOIN vacancies v ON e.id = v.employer_id\n",
    "GROUP BY e.id, e.name\n",
    "ORDER BY vacancy_count DESC\n",
    "LIMIT 5;\n",
    "'''\n",
    "\n",
    "# Выполнение запроса и получение результатов в виде DataFrame\n",
    "df = pd.read_sql_query(query_5_1, connection)"
   ]
  },
  {
   "cell_type": "code",
   "execution_count": 34,
   "id": "64tOMkAxqkQk",
   "metadata": {
    "id": "64tOMkAxqkQk"
   },
   "outputs": [
    {
     "name": "stdout",
     "output_type": "stream",
     "text": [
      "Список работодателей по количеству вакансий:             name  vacancy_count\n",
      "0         Яндекс           1933\n",
      "1     Ростелеком            491\n",
      "2       Тинькофф            444\n",
      "3           СБЕР            428\n",
      "4  Газпром нефть            331\n"
     ]
    }
   ],
   "source": [
    "# Вывод результата\n",
    "print(f\"Список работодателей по количеству вакансий: {df}\")"
   ]
  },
  {
   "cell_type": "markdown",
   "id": "68377cfc-b378-43dc-ab7d-1195abf2c515",
   "metadata": {
    "id": "68377cfc-b378-43dc-ab7d-1195abf2c515"
   },
   "source": [
    "2. Напишите запрос, который для каждого региона выведет количество работодателей и вакансий в нём.\n",
    "Среди регионов, в которых нет вакансий, найдите тот, в котором наибольшее количество работодателей.\n"
   ]
  },
  {
   "cell_type": "code",
   "execution_count": 35,
   "id": "dd7df27a-e3e8-412e-a21a-5d389b71e891",
   "metadata": {
    "id": "dd7df27a-e3e8-412e-a21a-5d389b71e891"
   },
   "outputs": [
    {
     "name": "stderr",
     "output_type": "stream",
     "text": [
      "C:\\Users\\ilya2\\AppData\\Local\\Temp\\ipykernel_13412\\878273485.py:22: UserWarning: pandas only supports SQLAlchemy connectable (engine/connection) or database string URI or sqlite3 DBAPI2 connection. Other DBAPI2 objects are not tested. Please consider using SQLAlchemy.\n",
      "  df = pd.read_sql_query(query_5_2, connection)\n"
     ]
    }
   ],
   "source": [
    "# Запрос\n",
    "query_5_2 = f'''\n",
    "SELECT  \n",
    "    a.name AS area_name, \n",
    "    COUNT(DISTINCT e.id) AS employer_count, \n",
    "    COUNT(v.id) AS vac_count \n",
    "FROM  \n",
    "    public.areas a \n",
    "LEFT JOIN  \n",
    "    public.employers e ON a.id = e.area \n",
    "LEFT JOIN  \n",
    "    public.vacancies v ON a.id = v.area_id \n",
    "GROUP BY  \n",
    "    a.id, a.name \n",
    "HAVING  \n",
    "    COUNT(v.id) = 0 \n",
    "ORDER BY  \n",
    "    employer_count DESC;\n",
    "'''\n",
    "\n",
    "# Выполнение запроса и получение результатов в виде DataFrame\n",
    "df = pd.read_sql_query(query_5_2, connection)"
   ]
  },
  {
   "cell_type": "code",
   "execution_count": 36,
   "id": "x1ikWbydrbf6",
   "metadata": {
    "id": "x1ikWbydrbf6"
   },
   "outputs": [
    {
     "name": "stdout",
     "output_type": "stream",
     "text": [
      "Список работодателей по количеству вакансий по регионам:               area_name  employer_count  vac_count\n",
      "0                Россия             410          0\n",
      "1             Казахстан             207          0\n",
      "2    Московская область              75          0\n",
      "3    Краснодарский край              19          0\n",
      "4    Ростовская область              18          0\n",
      "..                  ...             ...        ...\n",
      "588             Скидель               0          0\n",
      "589          Белоозерск               0          0\n",
      "590           Орловский               0          0\n",
      "591          Павловская               0          0\n",
      "592             Таксимо               0          0\n",
      "\n",
      "[593 rows x 3 columns]\n"
     ]
    }
   ],
   "source": [
    "# Вывод результата\n",
    "print(f\"Список работодателей по количеству вакансий по регионам: {df}\")"
   ]
  },
  {
   "cell_type": "markdown",
   "id": "f2fe0acb-ab1a-4e15-9326-2560e22d73c1",
   "metadata": {
    "id": "f2fe0acb-ab1a-4e15-9326-2560e22d73c1"
   },
   "source": [
    "3. Для каждого работодателя посчитайте количество регионов, в которых он публикует свои вакансии. Отсортируйте результат по убыванию количества.\n"
   ]
  },
  {
   "cell_type": "code",
   "execution_count": 37,
   "id": "6271f8ad-bd2e-4196-ae4a-5b39c4c1010e",
   "metadata": {
    "id": "6271f8ad-bd2e-4196-ae4a-5b39c4c1010e"
   },
   "outputs": [
    {
     "name": "stderr",
     "output_type": "stream",
     "text": [
      "C:\\Users\\ilya2\\AppData\\Local\\Temp\\ipykernel_13412\\3562192633.py:20: UserWarning: pandas only supports SQLAlchemy connectable (engine/connection) or database string URI or sqlite3 DBAPI2 connection. Other DBAPI2 objects are not tested. Please consider using SQLAlchemy.\n",
      "  df = pd.read_sql_query(query_5_3, connection)\n"
     ]
    }
   ],
   "source": [
    "# Запрос\n",
    "query_5_3 = '''\n",
    "SELECT \n",
    "    e.id AS employer_id, \n",
    "    e.name AS employers, \n",
    "    COUNT(DISTINCT v.area_id) AS unique_areas \n",
    "FROM  \n",
    "    employers e \n",
    "JOIN  \n",
    "    vacancies v ON v.employer_id = e.id \n",
    "JOIN  \n",
    "    areas a ON v.area_id = a.id \n",
    "GROUP BY \n",
    "    e.id, e.name \n",
    "ORDER BY \n",
    "    unique_areas DESC \n",
    "'''\n",
    "\n",
    "# Выполнение запроса и получение результатов в виде DataFrame\n",
    "df = pd.read_sql_query(query_5_3, connection)"
   ]
  },
  {
   "cell_type": "code",
   "execution_count": 38,
   "id": "1EIvX3HasH4F",
   "metadata": {
    "id": "1EIvX3HasH4F"
   },
   "outputs": [
    {
     "name": "stdout",
     "output_type": "stream",
     "text": [
      "Номер \\ Айдишник \\ Работодатель \\ Количество Регионов с вакансиями работодателя:        employer_id                               employers  unique_areas\n",
      "0             1740                                  Яндекс           181\n",
      "1             2748                              Ростелеком           152\n",
      "2          5724811                              Спецремонт           116\n",
      "3          5130287                  Поляков Денис Иванович            88\n",
      "4          3682876                               ООО ЕФИН             71\n",
      "...            ...                                     ...           ...\n",
      "14901       810278                            НПП Авиатрон             1\n",
      "14902       810313              Центр дистанционных торгов             1\n",
      "14903       810551  Городские Телекоммуникационные Системы             1\n",
      "14904       810688                       Введенский, Отель             1\n",
      "14905       811902              Группа Компаний Автоимпорт             1\n",
      "\n",
      "[14906 rows x 3 columns]\n"
     ]
    }
   ],
   "source": [
    "# Вывод результата\n",
    "print(f\"Номер \\ Айдишник \\ Работодатель \\ Количество Регионов с вакансиями работодателя: {df}\")"
   ]
  },
  {
   "cell_type": "markdown",
   "id": "eab2206d-d95b-468b-8e5f-34381abf0ce7",
   "metadata": {
    "id": "eab2206d-d95b-468b-8e5f-34381abf0ce7"
   },
   "source": [
    "4. Напишите запрос для подсчёта количества работодателей, у которых не указана сфера деятельности. "
   ]
  },
  {
   "cell_type": "code",
   "execution_count": 39,
   "id": "80defb23-bfb1-4a18-8be6-bf36aa7165d5",
   "metadata": {
    "id": "80defb23-bfb1-4a18-8be6-bf36aa7165d5"
   },
   "outputs": [
    {
     "name": "stderr",
     "output_type": "stream",
     "text": [
      "C:\\Users\\ilya2\\AppData\\Local\\Temp\\ipykernel_13412\\805907083.py:10: UserWarning: pandas only supports SQLAlchemy connectable (engine/connection) or database string URI or sqlite3 DBAPI2 connection. Other DBAPI2 objects are not tested. Please consider using SQLAlchemy.\n",
      "  df = pd.read_sql_query(query_5_4, connection)\n"
     ]
    }
   ],
   "source": [
    "# Запрос\n",
    "query_5_4 = '''\n",
    "SELECT COUNT(DISTINCT e.id) AS employer_count\n",
    "FROM employers e\n",
    "LEFT JOIN employers_industries ei ON e.id = ei.employer_id\n",
    "WHERE ei.industry_id IS NULL;\n",
    "'''\n",
    "\n",
    "# Выполнение запроса и получение результатов в виде DataFrame\n",
    "df = pd.read_sql_query(query_5_4, connection)"
   ]
  },
  {
   "cell_type": "code",
   "execution_count": 40,
   "id": "Dp_yCx6ysQSu",
   "metadata": {
    "id": "Dp_yCx6ysQSu"
   },
   "outputs": [
    {
     "name": "stdout",
     "output_type": "stream",
     "text": [
      "Вывод количества работодателей, у которых не указана сфера деятельности:    employer_count\n",
      "0            8419\n"
     ]
    }
   ],
   "source": [
    "# Вывод результата\n",
    "print(f\"Вывод количества работодателей, у которых не указана сфера деятельности: {df}\")"
   ]
  },
  {
   "cell_type": "markdown",
   "id": "0112af31-f6b0-4e3b-82ab-71296e752e5e",
   "metadata": {
    "id": "0112af31-f6b0-4e3b-82ab-71296e752e5e"
   },
   "source": [
    "5. Напишите запрос, чтобы узнать название компании, находящейся на третьем месте в алфавитном списке (по названию) компаний, у которых указано четыре сферы деятельности. "
   ]
  },
  {
   "cell_type": "code",
   "execution_count": 41,
   "id": "973b0cfc-a972-470a-8b4a-68744ef220c4",
   "metadata": {
    "id": "973b0cfc-a972-470a-8b4a-68744ef220c4"
   },
   "outputs": [
    {
     "name": "stderr",
     "output_type": "stream",
     "text": [
      "C:\\Users\\ilya2\\AppData\\Local\\Temp\\ipykernel_13412\\2461784289.py:16: UserWarning: pandas only supports SQLAlchemy connectable (engine/connection) or database string URI or sqlite3 DBAPI2 connection. Other DBAPI2 objects are not tested. Please consider using SQLAlchemy.\n",
      "  df = pd.read_sql_query(query_5_5, connection)\n"
     ]
    }
   ],
   "source": [
    "# Запрос\n",
    "query_5_5 = '''\n",
    "SELECT e.name\n",
    "FROM employers e\n",
    "JOIN (\n",
    "    SELECT employer_id\n",
    "    FROM employers_industries\n",
    "    GROUP BY employer_id\n",
    "    HAVING COUNT(industry_id) = 4\n",
    ") ei ON e.id = ei.employer_id\n",
    "ORDER BY e.name\n",
    "LIMIT 1 OFFSET 2;\n",
    "'''\n",
    "\n",
    "# Выполнение запроса и получение результатов в виде DataFrame\n",
    "df = pd.read_sql_query(query_5_5, connection)"
   ]
  },
  {
   "cell_type": "code",
   "execution_count": 42,
   "id": "xsPtpp8EsaED",
   "metadata": {
    "id": "xsPtpp8EsaED"
   },
   "outputs": [
    {
     "name": "stdout",
     "output_type": "stream",
     "text": [
      "Компания у которых 4 сферы деятельности:    name\n",
      "0  2ГИС\n"
     ]
    }
   ],
   "source": [
    "# Вывод результата\n",
    "print(f\"Компания у которых 4 сферы деятельности: {df}\")"
   ]
  },
  {
   "cell_type": "markdown",
   "id": "3bfcfdaf-755d-4d2b-8ed8-326201dc07ab",
   "metadata": {
    "id": "3bfcfdaf-755d-4d2b-8ed8-326201dc07ab"
   },
   "source": [
    "6. С помощью запроса выясните, у какого количества работодателей в качестве сферы деятельности указана Разработка программного обеспечения.\n"
   ]
  },
  {
   "cell_type": "code",
   "execution_count": 43,
   "id": "ad3f270f-2991-47eb-929b-e8f88a55b0d1",
   "metadata": {
    "id": "ad3f270f-2991-47eb-929b-e8f88a55b0d1"
   },
   "outputs": [
    {
     "name": "stderr",
     "output_type": "stream",
     "text": [
      "C:\\Users\\ilya2\\AppData\\Local\\Temp\\ipykernel_13412\\1031258913.py:10: UserWarning: pandas only supports SQLAlchemy connectable (engine/connection) or database string URI or sqlite3 DBAPI2 connection. Other DBAPI2 objects are not tested. Please consider using SQLAlchemy.\n",
      "  df = pd.read_sql_query(query_5_6, connection)\n"
     ]
    }
   ],
   "source": [
    "# Запрос\n",
    "query_5_6 = '''\n",
    "SELECT COUNT(DISTINCT ei.employer_id) AS employer_count\n",
    "FROM employers_industries ei\n",
    "JOIN industries i ON ei.industry_id = i.id\n",
    "WHERE i.name = 'Разработка программного обеспечения';\n",
    "''' \n",
    "\n",
    "# Выполнение запроса и получение результатов в виде DataFrame\n",
    "df = pd.read_sql_query(query_5_6, connection)"
   ]
  },
  {
   "cell_type": "code",
   "execution_count": 44,
   "id": "H72qxWM0shPR",
   "metadata": {
    "id": "H72qxWM0shPR"
   },
   "outputs": [
    {
     "name": "stdout",
     "output_type": "stream",
     "text": [
      "Количество работодателей с Разработкой программного обеспечения:    employer_count\n",
      "0            3553\n"
     ]
    }
   ],
   "source": [
    "# Вывод результата\n",
    "print(f\"Количество работодателей с Разработкой программного обеспечения: {df}\")"
   ]
  },
  {
   "cell_type": "markdown",
   "id": "7b02bb86-0546-40fb-94a4-242f050a5c57",
   "metadata": {
    "id": "7b02bb86-0546-40fb-94a4-242f050a5c57"
   },
   "source": [
    "7. Для компании «Яндекс» выведите список регионов-миллионников, в которых представлены вакансии компании, вместе с количеством вакансий в этих регионах. Также добавьте строку Total с общим количеством вакансий компании. Результат отсортируйте по возрастанию количества.\n",
    "\n",
    "Список городов-милионников надо взять [отсюда](https://ru.wikipedia.org/wiki/%D0%93%D0%BE%D1%80%D0%BE%D0%B4%D0%B0-%D0%BC%D0%B8%D0%BB%D0%BB%D0%B8%D0%BE%D0%BD%D0%B5%D1%80%D1%8B_%D0%A0%D0%BE%D1%81%D1%81%D0%B8%D0%B8). \n",
    "\n",
    "Если возникнут трудности с этим задание посмотрите материалы модуля  PYTHON-17. Как получать данные из веб-источников и API. "
   ]
  },
  {
   "cell_type": "code",
   "execution_count": 45,
   "id": "ZdfrL6gIs1Pn",
   "metadata": {
    "id": "ZdfrL6gIs1Pn"
   },
   "outputs": [
    {
     "data": {
      "text/plain": [
       "('Москва',\n",
       " 'Санкт-Петербург',\n",
       " 'Новосибирск',\n",
       " 'Екатеринбург',\n",
       " 'Казань',\n",
       " 'Красноярск',\n",
       " 'Нижний Новгород',\n",
       " 'Челябинск',\n",
       " 'Уфа',\n",
       " 'Самара',\n",
       " 'Ростов-на-Дону',\n",
       " 'Краснодар',\n",
       " 'Омск',\n",
       " 'Воронеж',\n",
       " 'Пермь',\n",
       " 'Волгоград')"
      ]
     },
     "execution_count": 45,
     "metadata": {},
     "output_type": "execute_result"
    }
   ],
   "source": [
    "# Запрос на сайт Википедия\n",
    "import requests \n",
    "from bs4 import BeautifulSoup \n",
    "\n",
    "url = 'https://ru.wikipedia.org/wiki/Города-миллионеры_России' \n",
    "response = requests.get(url)\n",
    "# дальше работа с содержимым страницы\n",
    "page = BeautifulSoup(response.text, 'html.parser') # Создаём объект BeautifulSoup, указывая html-парсер\n",
    "data = []\n",
    "Page_data = page.find_all('table')[0].find_all('tr')[1:]\n",
    "for element in Page_data:\n",
    "    sub_data = []\n",
    "    for i, k in enumerate(element):\n",
    "        try:\n",
    "            if i == 1:\n",
    "                sub_data.append(k.get_text())\n",
    "        except:\n",
    "            continue\n",
    "    data.append(sub_data)\n",
    "data_result = []\n",
    "for elem in data:\n",
    "    data_result.extend(elem)\n",
    "data_result = tuple(data_result)\n",
    "data_result"
   ]
  },
  {
   "cell_type": "code",
   "execution_count": 50,
   "id": "5a0e32a4-e68a-4365-8a39-2fe24c542c36",
   "metadata": {
    "id": "5a0e32a4-e68a-4365-8a39-2fe24c542c36"
   },
   "outputs": [
    {
     "name": "stderr",
     "output_type": "stream",
     "text": [
      "C:\\Users\\ilya2\\AppData\\Local\\Temp\\ipykernel_13412\\3041110461.py:37: UserWarning: pandas only supports SQLAlchemy connectable (engine/connection) or database string URI or sqlite3 DBAPI2 connection. Other DBAPI2 objects are not tested. Please consider using SQLAlchemy.\n",
      "  df = pd.read_sql_query(query_5_7, connection)\n"
     ]
    }
   ],
   "source": [
    "# Преобразование списка в строку для SQL\n",
    "cities_placeholder = ', '.join([f\"'{city}'\" for city in data_result])\n",
    "\n",
    "query_5_7 = f\"\"\"\n",
    "WITH vacancy_counts AS (\n",
    "    SELECT  \n",
    "        areas.name AS city, \n",
    "        COUNT(vacancies.id) AS cnt \n",
    "    FROM  \n",
    "        vacancies \n",
    "    JOIN  \n",
    "        areas ON vacancies.area_id = areas.id \n",
    "    JOIN  \n",
    "        employers ON vacancies.employer_id = employers.id \n",
    "    WHERE  \n",
    "        employers.name = 'Яндекс' AND  \n",
    "        areas.name IN ({cities_placeholder}) \n",
    "    GROUP BY  \n",
    "        areas.name \n",
    ")\n",
    "\n",
    "SELECT * FROM vacancy_counts\n",
    "\n",
    "UNION ALL\n",
    "\n",
    "SELECT \n",
    "    'Total' AS city,\n",
    "    SUM(cnt) AS cnt\n",
    "FROM \n",
    "    vacancy_counts\n",
    "\n",
    "ORDER BY \n",
    "    cnt DESC; \n",
    "\"\"\" \n",
    "\n",
    "# Выполнение запроса и получение результатов в виде DataFrame\n",
    "df = pd.read_sql_query(query_5_7, connection)"
   ]
  },
  {
   "cell_type": "code",
   "execution_count": 51,
   "id": "ttPhiO1rsvPq",
   "metadata": {
    "id": "ttPhiO1rsvPq"
   },
   "outputs": [
    {
     "name": "stdout",
     "output_type": "stream",
     "text": [
      "Таблица:                city    cnt\n",
      "0             Total  485.0\n",
      "1            Москва   54.0\n",
      "2   Санкт-Петербург   42.0\n",
      "3      Екатеринбург   39.0\n",
      "4   Нижний Новгород   36.0\n",
      "5       Новосибирск   35.0\n",
      "6           Воронеж   32.0\n",
      "7         Краснодар   30.0\n",
      "8            Самара   26.0\n",
      "9               Уфа   26.0\n",
      "10   Ростов-на-Дону   25.0\n",
      "11            Пермь   25.0\n",
      "12           Казань   25.0\n",
      "13        Волгоград   24.0\n",
      "14       Красноярск   23.0\n",
      "15        Челябинск   22.0\n",
      "16             Омск   21.0\n"
     ]
    }
   ],
   "source": [
    "# Вывод результата\n",
    "print(f\"Таблица: {df}\")"
   ]
  },
  {
   "cell_type": "markdown",
   "id": "329299c4",
   "metadata": {},
   "source": [
    "- Яндекс - лидер по количеству вакансий. Компания содержит в себе большое количество разделов и сфер, что делает из неё чуть ли не корпорацию.\n",
    "- Россия - лидер по количеству работодателей. Это говорит об активном развитии рабочей сферы в стране.\n",
    "- Яндеск - самая распространённая по регионом компания. Вспомним только их такси во всех крупных городах страны.\n",
    "- 3553 работодателей связанных с разработкой ПО - показывает, что IT сфера также активно развивается."
   ]
  },
  {
   "cell_type": "markdown",
   "id": "04966e40-3bc3-4dc8-9ba2-e80580ce3abc",
   "metadata": {
    "id": "04966e40-3bc3-4dc8-9ba2-e80580ce3abc"
   },
   "source": [
    "***"
   ]
  },
  {
   "cell_type": "markdown",
   "id": "b1ef156a-efcb-49ce-bb23-90763e7f35b2",
   "metadata": {
    "id": "b1ef156a-efcb-49ce-bb23-90763e7f35b2",
    "tags": []
   },
   "source": [
    "# Юнит 6. Предметный анализ"
   ]
  },
  {
   "cell_type": "markdown",
   "id": "b9cd50a0-992d-4988-8463-2b2b1c4629b4",
   "metadata": {
    "id": "b9cd50a0-992d-4988-8463-2b2b1c4629b4"
   },
   "source": [
    "1. Сколько вакансий имеет отношение к данным?\n",
    "\n",
    "Считаем, что вакансия имеет отношение к данным, если в её названии содержатся слова 'data' или 'данн'.\n",
    "\n",
    "*Подсказка: Обратите внимание, что названия вакансий могут быть написаны в любом регистре.* \n"
   ]
  },
  {
   "cell_type": "code",
   "execution_count": 52,
   "id": "54ab0e50-c0f1-47cc-a54b-bc5c8bc363f9",
   "metadata": {
    "id": "54ab0e50-c0f1-47cc-a54b-bc5c8bc363f9"
   },
   "outputs": [
    {
     "name": "stderr",
     "output_type": "stream",
     "text": [
      "C:\\Users\\ilya2\\AppData\\Local\\Temp\\ipykernel_13412\\3984799322.py:9: UserWarning: pandas only supports SQLAlchemy connectable (engine/connection) or database string URI or sqlite3 DBAPI2 connection. Other DBAPI2 objects are not tested. Please consider using SQLAlchemy.\n",
      "  df = pd.read_sql_query(query_6_1, connection)\n"
     ]
    }
   ],
   "source": [
    "# Запрос\n",
    "query_6_1 = '''\n",
    "SELECT COUNT(*) AS data_related_vacancies\n",
    "FROM vacancies\n",
    "WHERE name ILIKE '%data%' OR name ILIKE '%данн%';\n",
    "'''\n",
    "\n",
    "# Выполнение запроса и получение результатов в виде DataFrame\n",
    "df = pd.read_sql_query(query_6_1, connection)"
   ]
  },
  {
   "cell_type": "code",
   "execution_count": 54,
   "id": "9F1meAqsuUjd",
   "metadata": {
    "id": "9F1meAqsuUjd"
   },
   "outputs": [
    {
     "name": "stdout",
     "output_type": "stream",
     "text": [
      "Количество вакансий с отношением к данным:    data_related_vacancies\n",
      "0                    1771\n"
     ]
    }
   ],
   "source": [
    "# Вывод результата\n",
    "print(f\"Количество вакансий с отношением к данным: {df}\")"
   ]
  },
  {
   "cell_type": "markdown",
   "id": "4dea20cb-a36b-474a-a0b9-e08e8e3857a5",
   "metadata": {
    "id": "4dea20cb-a36b-474a-a0b9-e08e8e3857a5"
   },
   "source": [
    "2. Сколько есть подходящих вакансий для начинающего дата-сайентиста? \n",
    "Будем считать вакансиями для дата-сайентистов такие, в названии которых есть хотя бы одно из следующих сочетаний:\n",
    "* 'data scientist'\n",
    "* 'data science'\n",
    "* 'исследователь данных'\n",
    "* 'ML' (здесь не нужно брать вакансии по HTML)\n",
    "* 'machine learning'\n",
    "* 'машинн%обучен%'\n",
    "\n",
    "** В следующих заданиях мы продолжим работать с вакансиями по этому условию.*\n",
    "\n",
    "Считаем вакансиями для специалистов уровня Junior следующие:\n",
    "* в названии есть слово 'junior' *или*\n",
    "* требуемый опыт — Нет опыта *или*\n",
    "* тип трудоустройства — Стажировка.\n",
    " "
   ]
  },
  {
   "cell_type": "code",
   "execution_count": 58,
   "id": "9c61b3c0-bb66-46c9-ae1e-81d3f5752b4a",
   "metadata": {
    "id": "9c61b3c0-bb66-46c9-ae1e-81d3f5752b4a"
   },
   "outputs": [
    {
     "name": "stderr",
     "output_type": "stream",
     "text": [
      "C:\\Users\\ilya2\\AppData\\Local\\Temp\\ipykernel_13412\\471383827.py:20: UserWarning: pandas only supports SQLAlchemy connectable (engine/connection) or database string URI or sqlite3 DBAPI2 connection. Other DBAPI2 objects are not tested. Please consider using SQLAlchemy.\n",
      "  df = pd.read_sql_query(query_6_2, connection)\n"
     ]
    }
   ],
   "source": [
    "# Запрос\n",
    "query_6_2 = '''\n",
    "SELECT COUNT(*) AS suitable_vacancies\n",
    "FROM vacancies\n",
    "WHERE \n",
    "    (name ILIKE '%data scientist%' OR\n",
    "     name ILIKE '%data science%' OR\n",
    "     name ILIKE '%исследователь данных%' OR\n",
    "     (name ILIKE '%ML%' AND name NOT ILIKE '%HTML%') OR\n",
    "     name ILIKE '%machine learning%' OR\n",
    "     name ILIKE '%машинн%обучен%')\n",
    "AND (\n",
    "    name ILIKE '%junior%' OR\n",
    "    experience = 'Нет опыта' OR\n",
    "    employment = 'Стажировка'\n",
    ");\n",
    "''' \n",
    "\n",
    "# Выполнение запроса и получение результатов в виде DataFrame\n",
    "df = pd.read_sql_query(query_6_2, connection)"
   ]
  },
  {
   "cell_type": "code",
   "execution_count": 59,
   "id": "ZNM-LLYuu1dj",
   "metadata": {
    "id": "ZNM-LLYuu1dj"
   },
   "outputs": [
    {
     "name": "stdout",
     "output_type": "stream",
     "text": [
      "Количество вакансий с условиями:    suitable_vacancies\n",
      "0                  51\n"
     ]
    }
   ],
   "source": [
    "# Вывод результата\n",
    "print(f\"Количество вакансий с условиями: {df}\")"
   ]
  },
  {
   "cell_type": "markdown",
   "id": "eedceb80-c5ca-480e-b27a-278dfb8b4438",
   "metadata": {
    "id": "eedceb80-c5ca-480e-b27a-278dfb8b4438"
   },
   "source": [
    "3. Сколько есть вакансий для DS, в которых в качестве ключевого навыка указан SQL или postgres?\n",
    "\n",
    "** Критерии для отнесения вакансии к DS указаны в предыдущем задании.*"
   ]
  },
  {
   "cell_type": "code",
   "execution_count": 65,
   "id": "69621713-0cc5-4f1b-a1d7-bb144fa6148c",
   "metadata": {
    "id": "69621713-0cc5-4f1b-a1d7-bb144fa6148c"
   },
   "outputs": [
    {
     "name": "stderr",
     "output_type": "stream",
     "text": [
      "C:\\Users\\ilya2\\AppData\\Local\\Temp\\ipykernel_13412\\3008725584.py:18: UserWarning: pandas only supports SQLAlchemy connectable (engine/connection) or database string URI or sqlite3 DBAPI2 connection. Other DBAPI2 objects are not tested. Please consider using SQLAlchemy.\n",
      "  df = pd.read_sql_query(query_6_3, connection)\n"
     ]
    }
   ],
   "source": [
    "# Запрос\n",
    "query_6_3 = '''\n",
    "SELECT COUNT(*) AS suitable_vacancies\n",
    "FROM vacancies\n",
    "WHERE \n",
    "    (name ILIKE '%data scientist%' OR\n",
    "     name ILIKE '%data science%' OR\n",
    "     name ILIKE '%исследователь данных%' OR\n",
    "     (name ILIKE '%ML%' AND name NOT ILIKE '%HTML%') OR\n",
    "     name ILIKE '%machine learning%' OR\n",
    "     name ILIKE '%машинн%обучен%')\n",
    "AND \n",
    "    (key_skills ILIKE '%SQL%' OR key_skills ILIKE '%Postgres%')\n",
    ";\n",
    "''' \n",
    "\n",
    "# Выполнение запроса и получение результатов в виде DataFrame\n",
    "df = pd.read_sql_query(query_6_3, connection)"
   ]
  },
  {
   "cell_type": "code",
   "execution_count": 66,
   "id": "alA8WEAAvGdf",
   "metadata": {
    "id": "alA8WEAAvGdf"
   },
   "outputs": [
    {
     "name": "stdout",
     "output_type": "stream",
     "text": [
      "Количество вакансий с условиями:    suitable_vacancies\n",
      "0                 229\n"
     ]
    }
   ],
   "source": [
    "# Вывод результата\n",
    "print(f\"Количество вакансий с условиями: {df}\")"
   ]
  },
  {
   "cell_type": "markdown",
   "id": "1be1e9c6-37cf-4a5f-bfeb-04cab799dc80",
   "metadata": {
    "id": "1be1e9c6-37cf-4a5f-bfeb-04cab799dc80"
   },
   "source": [
    "4. Проверьте, насколько популярен Python в требованиях работодателей к DS.Для этого вычислите количество вакансий, в которых в качестве ключевого навыка указан Python.\n",
    "\n",
    "** Это можно сделать помощью запроса, аналогичного предыдущему.*"
   ]
  },
  {
   "cell_type": "code",
   "execution_count": 67,
   "id": "0036a355-9ccf-4564-8b01-73d8194297e7",
   "metadata": {
    "id": "0036a355-9ccf-4564-8b01-73d8194297e7"
   },
   "outputs": [
    {
     "name": "stderr",
     "output_type": "stream",
     "text": [
      "C:\\Users\\ilya2\\AppData\\Local\\Temp\\ipykernel_13412\\3027178371.py:17: UserWarning: pandas only supports SQLAlchemy connectable (engine/connection) or database string URI or sqlite3 DBAPI2 connection. Other DBAPI2 objects are not tested. Please consider using SQLAlchemy.\n",
      "  df = pd.read_sql_query(query_6_4, connection)\n"
     ]
    }
   ],
   "source": [
    "# Запрос\n",
    "query_6_4 = '''\n",
    "SELECT COUNT(*) AS python_vacancies \n",
    "FROM vacancies \n",
    "WHERE  \n",
    "    (name ILIKE '%data scientist%' OR \n",
    "     name ILIKE '%data science%' OR \n",
    "     name ILIKE '%исследователь данных%' OR \n",
    "     (name ILIKE '%ML%' AND name NOT ILIKE '%HTML%') OR \n",
    "     name ILIKE '%machine learning%' OR \n",
    "     name ILIKE '%машинн%обучен%') \n",
    "AND  \n",
    "    key_skills ILIKE '%Python%';\n",
    "''' \n",
    "\n",
    "# Выполнение запроса и получение результатов в виде DataFrame\n",
    "df = pd.read_sql_query(query_6_4, connection)"
   ]
  },
  {
   "cell_type": "code",
   "execution_count": 68,
   "id": "1i-5WyucvQ6v",
   "metadata": {
    "id": "1i-5WyucvQ6v"
   },
   "outputs": [
    {
     "name": "stdout",
     "output_type": "stream",
     "text": [
      "Количество вакансий с условиями (Python):    python_vacancies\n",
      "0               357\n"
     ]
    }
   ],
   "source": [
    "# Вывод результата\n",
    "print(f\"Количество вакансий с условиями (Python): {df}\")"
   ]
  },
  {
   "cell_type": "markdown",
   "id": "ec3c8db7-fa21-4a41-a994-1af63742a642",
   "metadata": {
    "id": "ec3c8db7-fa21-4a41-a994-1af63742a642"
   },
   "source": [
    "5. Сколько ключевых навыков в среднем указывают в вакансиях для DS?\n",
    "Ответ округлите до двух знаков после точки-разделителя."
   ]
  },
  {
   "cell_type": "code",
   "execution_count": null,
   "id": "949132bc-d5b6-4611-8218-0b9a504d74f4",
   "metadata": {
    "id": "949132bc-d5b6-4611-8218-0b9a504d74f4"
   },
   "outputs": [
    {
     "name": "stderr",
     "output_type": "stream",
     "text": [
      "C:\\Users\\ilya2\\AppData\\Local\\Temp\\ipykernel_13412\\2781324522.py:21: UserWarning: pandas only supports SQLAlchemy connectable (engine/connection) or database string URI or sqlite3 DBAPI2 connection. Other DBAPI2 objects are not tested. Please consider using SQLAlchemy.\n",
      "  df = pd.read_sql_query(query_6_5, connection)\n"
     ]
    }
   ],
   "source": [
    "# Запрос\n",
    "query_6_5 = '''\n",
    "SELECT\n",
    "ROUND(AVG(LENGTH(key_skills) - LENGTH(replace(key_skills,CHR(9),''))+1),2)\n",
    "FROM vacancies\n",
    "WHERE\n",
    "(\n",
    "       (v.name ILIKE '%data scientist%')\n",
    "    OR (lower(v.name) ILIKE '%data science%')\n",
    "    OR (v.name ILIKE '%исследователь данных%')\n",
    "    OR (v.name  LIKE '%ML%' AND  (v.name NOT iLIKE '%html%'))\n",
    "    OR (v.name ILIKE '%machine learning%')\n",
    "    OR (v.name ILIKE '%машинн%обучен%')\n",
    "    AND (key_skills IS NOT NULL)\n",
    ")\n",
    "''' \n",
    "\n",
    "# Выполнение запроса и получение результатов в виде DataFrame\n",
    "df = pd.read_sql_query(query_6_5, connection)"
   ]
  },
  {
   "cell_type": "code",
   "execution_count": 74,
   "id": "a3V24Tvmviqk",
   "metadata": {
    "id": "a3V24Tvmviqk"
   },
   "outputs": [
    {
     "name": "stdout",
     "output_type": "stream",
     "text": [
      "Среденее количество навыков:    round\n",
      "0   6.41\n"
     ]
    }
   ],
   "source": [
    "# Вывод результата\n",
    "print(f\"Среденее количество навыков: {df}\")"
   ]
  },
  {
   "cell_type": "markdown",
   "id": "1041c17a-ca8f-4543-a0ca-32778914fb00",
   "metadata": {
    "id": "1041c17a-ca8f-4543-a0ca-32778914fb00"
   },
   "source": [
    "6. Напишите запрос, позволяющий вычислить, какую зарплату для DS в **среднем** указывают для каждого типа требуемого опыта (уникальное значение из поля *experience*). \n",
    "\n",
    "При решении задачи примите во внимание следующее:\n",
    "1. Рассматриваем только вакансии, у которых заполнено хотя бы одно из двух полей с зарплатой.\n",
    "2. Если заполнены оба поля с зарплатой, то считаем зарплату по каждой вакансии как сумму двух полей, делённую на 2. Если заполнено только одно из полей, то его и считаем зарплатой по вакансии.\n",
    "3. Если в расчётах участвует null, в результате он тоже даст null (посмотрите, что возвращает запрос select 1 + null). Чтобы избежать этой ситуацию, мы воспользуемся функцией [coalesce](https://postgrespro.ru/docs/postgresql/9.5/functions-conditional#functions-coalesce-nvl-ifnull), которая заменит null на значение, которое мы передадим. Например, посмотрите, что возвращает запрос `select 1 + coalesce(null, 0)`\n",
    "\n",
    "Выясните, на какую зарплату в среднем может рассчитывать дата-сайентист с опытом работы от 3 до 6 лет. Результат округлите до целого числа. "
   ]
  },
  {
   "cell_type": "code",
   "execution_count": null,
   "id": "6a743d39-5204-48d3-8271-b9f88e68d40e",
   "metadata": {
    "id": "6a743d39-5204-48d3-8271-b9f88e68d40e"
   },
   "outputs": [
    {
     "name": "stderr",
     "output_type": "stream",
     "text": [
      "C:\\Users\\ilya2\\AppData\\Local\\Temp\\ipykernel_13412\\3698754839.py:23: UserWarning: pandas only supports SQLAlchemy connectable (engine/connection) or database string URI or sqlite3 DBAPI2 connection. Other DBAPI2 objects are not tested. Please consider using SQLAlchemy.\n",
      "  df = pd.read_sql_query(query_6_6, connection)\n"
     ]
    }
   ],
   "source": [
    "# Запрос\n",
    "query_6_6 = '''\n",
    "SELECT\n",
    "  v.experience, ROUND(AVG(coalesce((v.salary_from + v.salary_to) / 2, v.salary_from, v.salary_to)), 0)\n",
    "\n",
    "FROM vacancies v\n",
    "WHERE\n",
    "(\n",
    "       (v.name ILIKE '%data scientist%')\n",
    "    OR (lower(v.name) ILIKE '%data science%')\n",
    "    OR (v.name ILIKE '%исследователь данных%')\n",
    "    OR (v.name  LIKE '%ML%' AND  (v.name NOT iLIKE '%html%'))\n",
    "    OR (v.name ILIKE '%machine learning%')\n",
    "    OR (v.name ILIKE '%машинн%обучен%')\n",
    "    AND (key_skills IS NOT NULL)\n",
    ")\n",
    "GROUP BY v.experience\n",
    "ORDER BY 1\n",
    "''' \n",
    "\n",
    "# Выполнение запроса и получение результатов в виде DataFrame\n",
    "df = pd.read_sql_query(query_6_6, connection)"
   ]
  },
  {
   "cell_type": "code",
   "execution_count": 80,
   "id": "aRIJ0mZEwU1_",
   "metadata": {
    "id": "aRIJ0mZEwU1_"
   },
   "outputs": [
    {
     "name": "stdout",
     "output_type": "stream",
     "text": [
      "Среденяя ЗП для DS с опытом работы от 3 до 6 лет:            experience     round\n",
      "0         Более 6 лет       NaN\n",
      "1           Нет опыта   74643.0\n",
      "2  От 1 года до 3 лет  145236.0\n",
      "3       От 3 до 6 лет  243115.0\n"
     ]
    }
   ],
   "source": [
    "# Вывод результата\n",
    "print(f\"Среденяя ЗП для DS с опытом работы от 3 до 6 лет: {df}\")"
   ]
  },
  {
   "cell_type": "markdown",
   "id": "ac72df59",
   "metadata": {},
   "source": [
    "Профессия DS - то, что мы активно изучаем - одна из самых востребованных на данный момент. Вакансий - большое количество и их количество со временем будет только расти.\n",
    "Исследование показывает, что работа для специалиста DS - найдется + она будет достаточно хорошо оплачиваться при наличии опыта."
   ]
  },
  {
   "cell_type": "markdown",
   "id": "6a7892b4-4113-4746-adce-18aa2844f18e",
   "metadata": {
    "id": "6a7892b4-4113-4746-adce-18aa2844f18e"
   },
   "source": [
    "***"
   ]
  },
  {
   "cell_type": "markdown",
   "id": "c0ED6fh7wiBT",
   "metadata": {
    "id": "c0ED6fh7wiBT"
   },
   "source": [
    "# Общий вывод по проекту"
   ]
  },
  {
   "cell_type": "markdown",
   "id": "7994000e",
   "metadata": {},
   "source": [
    "- В процессе анализа данных стало очевидно, что рынок труда активно адаптируется к современным условиям, таким как цифровизация и глобализация. Увеличение числа вакансий в IT-сфере отражает важность технологий в современном обществе. При этом важно учитывать предпочтения соискателей и создавать условия для их профессионального роста, чтобы удерживать талантливых специалистов на рынке труда.\n",
    "- Рынок труда демонстрирует активность и разнообразие предложений, что создаёт благоприятные условия для соискателей. Высокая концентрация вакансий в крупных городах, таких как Москва и Санкт-Петербург, указывает на необходимость изучения региональных особенностей. С другой стороны, наличие множества работодателей и широкое распределение по сферам деятельности позволяют расширить горизонты поиска работы.\n",
    "- Востребованность профессии Data Scientist: Рост числа вакансий для специалистов в области анализа данных говорит о высоком спросе на такие профессии, что может продолжаться в будущем, учитывая тренды цифровизации и больших данных."
   ]
  },
  {
   "cell_type": "code",
   "execution_count": 91,
   "id": "59aed4a6",
   "metadata": {},
   "outputs": [
    {
     "name": "stderr",
     "output_type": "stream",
     "text": [
      "C:\\Users\\ilya2\\AppData\\Local\\Temp\\ipykernel_13412\\2746858658.py:36: UserWarning: pandas only supports SQLAlchemy connectable (engine/connection) or database string URI or sqlite3 DBAPI2 connection. Other DBAPI2 objects are not tested. Please consider using SQLAlchemy.\n",
      "  df = pd.read_sql_query(query_more, connection)\n"
     ]
    }
   ],
   "source": [
    "# Дополнительный Запрос\n",
    "query_more = '''\n",
    "WITH salary_data AS (\n",
    "    SELECT \n",
    "        v.id AS vacancy_id,\n",
    "        v.salary_from,\n",
    "        v.salary_to,\n",
    "        v.employment,\n",
    "        v.schedule,\n",
    "        ei.industry_id,\n",
    "        i.name AS industry_name\n",
    "    FROM vacancies v\n",
    "    JOIN employers_industries ei ON v.employer_id = ei.employer_id\n",
    "    JOIN industries i ON ei.industry_id = i.id\n",
    "    WHERE v.salary_from IS NOT NULL AND v.salary_to IS NOT NULL\n",
    "),\n",
    "average_salary AS (\n",
    "    SELECT \n",
    "        industry_name,\n",
    "        employment,\n",
    "        schedule,\n",
    "        AVG((salary_from + salary_to) / 2.0) AS avg_salary\n",
    "    FROM salary_data\n",
    "    GROUP BY industry_name, employment, schedule\n",
    ")\n",
    "SELECT \n",
    "    industry_name,\n",
    "    employment,\n",
    "    schedule,\n",
    "    avg_salary\n",
    "FROM average_salary\n",
    "ORDER BY industry_name, employment, schedule;\n",
    "'''\n",
    "\n",
    "# Выполнение запроса и получение результатов в виде DataFrame\n",
    "df = pd.read_sql_query(query_more, connection)"
   ]
  },
  {
   "cell_type": "code",
   "execution_count": 95,
   "id": "4f9cc1ff",
   "metadata": {},
   "outputs": [
    {
     "name": "stderr",
     "output_type": "stream",
     "text": [
      "C:\\Users\\ilya2\\AppData\\Local\\Temp\\ipykernel_13412\\2827353705.py:17: UserWarning: Tight layout not applied. The bottom and top margins cannot be made large enough to accommodate all Axes decorations.\n",
      "  plt.tight_layout()\n"
     ]
    },
    {
     "data": {
      "image/png": "[encoded data removed]",
      "text/plain": [
       "<Figure size 1200x600 with 1 Axes>"
      ]
     },
     "metadata": {},
     "output_type": "display_data"
    }
   ],
   "source": [
    "import pandas as pd\n",
    "import matplotlib.pyplot as plt\n",
    "import seaborn as sns\n",
    "\n",
    "# Выбираем 20 отраслей с наивысшей средней зарплатой\n",
    "top_industries = df.groupby('industry_name')['avg_salary'].mean().nlargest(20).index\n",
    "filtered_df = df[df['industry_name'].isin(top_industries)]\n",
    "\n",
    "# Построим график\n",
    "plt.figure(figsize=(12, 6))\n",
    "sns.barplot(data=filtered_df, x='industry_name', y='avg_salary', hue='employment', palette='viridis')\n",
    "plt.title('Средняя зарплата по отраслям и типам трудоустройства (Топ 20)')\n",
    "plt.xlabel('Отрасль')\n",
    "plt.ylabel('Средняя зарплата')\n",
    "plt.xticks(rotation=45, ha='right')  # Поворачиваем метки для лучшей читаемости\n",
    "plt.legend(title='Тип трудоустройства')\n",
    "plt.tight_layout()\n",
    "plt.show()"
   ]
  },
  {
   "cell_type": "markdown",
   "id": "699fec28",
   "metadata": {},
   "source": [
    "График показывает среднюю зарплату по 20 отраслям и трем типам трудоустройства (полная занятость, стажировка, частичная занятость). На основе предоставленного графика можно сделать следующие выводы:\n",
    "\n",
    "Разброс зарплат значителен: В каждой отрасли наблюдается существенный разброс зарплат, что видно по длине вертикальных линий (усиков) на графике. Это указывает на наличие как высокооплачиваемых, так и низкооплачиваемых позиций внутри одной и той же сферы деятельности.\n",
    "\n",
    "Полная занятость — самая высокооплачиваемая: В большинстве отраслей средняя зарплата при полной занятости значительно выше, чем при стажировке и частичной занятости.\n",
    "\n",
    "Стажировки обычно низкооплачиваемые: Зарплаты на стажировках, как правило, самые низкие среди представленных типов трудоустройства.\n",
    "\n",
    "Отраслевые различия: Существуют значительные различия в средней зарплате между отраслями. Некоторые отрасли демонстрируют значительно более высокие средние зарплаты, чем другие. Например, в некоторых областях средняя зарплата превышает 200 000, в то время как в других она находится на уровне значительно ниже 100 000.\n",
    "\n",
    "Частичная занятость — не всегда низкооплачиваемая: В некоторых отраслях зарплата при частичной занятости сравнима с зарплатой на стажировке, а в некоторых приближается к уровню полной занятости. Это говорит о том, что тип занятости не единственный фактор, определяющий уровень заработной платы."
   ]
  },
  {
   "cell_type": "code",
   "execution_count": null,
   "id": "d8e86683",
   "metadata": {},
   "outputs": [],
   "source": [
    "# не забываем закрыть соединение после окончания работы\n",
    "connection.close()"
   ]
  }
 ],
 "metadata": {
  "colab": {
   "collapsed_sections": [
    "8d62a9f3-f64e-4fe7-bdac-c4dffa16155e"
   ],
   "provenance": []
  },
  "kernelspec": {
   "display_name": "Python 3",
   "language": "python",
   "name": "python3"
  },
  "language_info": {
   "codemirror_mode": {
    "name": "ipython",
    "version": 3
   },
   "file_extension": ".py",
   "mimetype": "text/x-python",
   "name": "python",
   "nbconvert_exporter": "python",
   "pygments_lexer": "ipython3",
   "version": "3.11.9"
  }
 },
 "nbformat": 4,
 "nbformat_minor": 5
}
